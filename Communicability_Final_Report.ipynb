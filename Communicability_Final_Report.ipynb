{
  "nbformat": 4,
  "nbformat_minor": 0,
  "metadata": {
    "colab": {
      "provenance": [],
      "authorship_tag": "ABX9TyN01RtqH2uNrdjl5xNlIj+j",
      "include_colab_link": true
    },
    "kernelspec": {
      "name": "python3",
      "display_name": "Python 3"
    },
    "language_info": {
      "name": "python"
    }
  },
  "cells": [
    {
      "cell_type": "markdown",
      "metadata": {
        "id": "view-in-github",
        "colab_type": "text"
      },
      "source": [
        "<a href=\"https://colab.research.google.com/github/brenddonandrade/Dados-Relatorio-Final/blob/main/Communicability_Final_Report.ipynb\" target=\"_parent\"><img src=\"https://colab.research.google.com/assets/colab-badge.svg\" alt=\"Open In Colab\"/></a>"
      ]
    },
    {
      "cell_type": "markdown",
      "metadata": {
        "id": "jIh23Ix785s8"
      },
      "source": [
        "\n",
        "# Necessary Installations and Imports"
      ]
    },
    {
      "cell_type": "code",
      "source": [
        "!pip install -q numpy==1.23.5\n",
        "!pip install -q networkx==3.1\n",
        "!pip install -q matplotlib==3.7.1\n",
        "!pip install -q pandas==1.5.3\n",
        "!pip install -q plotly==5.12.0"
      ],
      "metadata": {
        "colab": {
          "base_uri": "https://localhost:8080/"
        },
        "id": "tQii-X_oeMsb",
        "outputId": "e0e84988-de93-4b28-8c6d-478f85474519"
      },
      "execution_count": 215,
      "outputs": [
        {
          "output_type": "stream",
          "name": "stdout",
          "text": [
            "\u001b[33mWARNING: Ignoring invalid distribution -lotly (/usr/local/lib/python3.10/dist-packages)\u001b[0m\u001b[33m\n",
            "\u001b[0m\u001b[33mWARNING: Ignoring invalid distribution -lotly (/usr/local/lib/python3.10/dist-packages)\u001b[0m\u001b[33m\n",
            "\u001b[0m\u001b[33mWARNING: Ignoring invalid distribution -lotly (/usr/local/lib/python3.10/dist-packages)\u001b[0m\u001b[33m\n",
            "\u001b[0m\u001b[33mWARNING: Ignoring invalid distribution -lotly (/usr/local/lib/python3.10/dist-packages)\u001b[0m\u001b[33m\n",
            "\u001b[0m\u001b[33mWARNING: Ignoring invalid distribution -lotly (/usr/local/lib/python3.10/dist-packages)\u001b[0m\u001b[33m\n",
            "\u001b[0m\u001b[33mWARNING: Ignoring invalid distribution -lotly (/usr/local/lib/python3.10/dist-packages)\u001b[0m\u001b[33m\n",
            "\u001b[0m\u001b[33mWARNING: Ignoring invalid distribution -lotly (/usr/local/lib/python3.10/dist-packages)\u001b[0m\u001b[33m\n",
            "\u001b[0m\u001b[33mWARNING: Ignoring invalid distribution -lotly (/usr/local/lib/python3.10/dist-packages)\u001b[0m\u001b[33m\n",
            "\u001b[0m\u001b[33mWARNING: Ignoring invalid distribution -lotly (/usr/local/lib/python3.10/dist-packages)\u001b[0m\u001b[33m\n",
            "\u001b[0m\u001b[33mWARNING: Ignoring invalid distribution -lotly (/usr/local/lib/python3.10/dist-packages)\u001b[0m\u001b[33m\n",
            "\u001b[0m"
          ]
        }
      ]
    },
    {
      "cell_type": "code",
      "execution_count": 216,
      "metadata": {
        "id": "iMxsnjYy6Mk-"
      },
      "outputs": [],
      "source": [
        "import networkx as nx\n",
        "import numpy as np\n",
        "from math import factorial\n",
        "import matplotlib.pyplot as plt\n",
        "import pandas as pd\n",
        "import plotly.graph_objects as go\n",
        "import csv\n",
        "import time"
      ]
    },
    {
      "cell_type": "markdown",
      "metadata": {
        "id": "7r8CIPlk8iK9"
      },
      "source": [
        "# Proposed Method"
      ]
    },
    {
      "cell_type": "code",
      "execution_count": 217,
      "metadata": {
        "id": "_w4xNyim8h6G"
      },
      "outputs": [],
      "source": [
        "def communicability(matrix, n):\n",
        "  matrix_1 = matrix.copy()\n",
        "  matrix_2 = matrix.copy()\n",
        "  matrix_3 = matrix.copy()\n",
        "  matrix_c = np.identity(len(matrix), float)\n",
        "  matrix_c = matrix_c + matrix_1\n",
        "\n",
        "  for k in range(2,n+1):\n",
        "\n",
        "    # Raise the matrix by k\n",
        "    matrix_1 = np.matmul(matrix_1, matrix_2)\n",
        "    matrix_3 = matrix_1/factorial(k)\n",
        "\n",
        "\n",
        "    # Sum the n matrices\n",
        "    matrix_c = matrix_c + matrix_3\n",
        "\n",
        "  return matrix_c"
      ]
    },
    {
      "cell_type": "markdown",
      "metadata": {
        "id": "iFzgo3OyTucK"
      },
      "source": [
        "# Dependency"
      ]
    },
    {
      "cell_type": "markdown",
      "metadata": {
        "id": "Kmrs7acBBkDD"
      },
      "source": [
        "## Transform Dict from NetworkX to Numpy Array"
      ]
    },
    {
      "cell_type": "code",
      "execution_count": 218,
      "metadata": {
        "id": "tBI9hdg2K4il"
      },
      "outputs": [],
      "source": [
        "def nx_to_np(dict_comunica):\n",
        "    nodes = dict_comunica.__len__()\n",
        "    matrix_c = np.zeros((nodes, nodes), float)\n",
        "\n",
        "    for node_i, nodedict in dict_comunica.items():\n",
        "        for node_j, value in nodedict.items():\n",
        "            matrix_c[node_i][node_j] = value\n",
        "\n",
        "    return matrix_c"
      ]
    },
    {
      "cell_type": "markdown",
      "metadata": {
        "id": "9Ic9VJq4TY1m"
      },
      "source": [
        "## Create matrix adjacency"
      ]
    },
    {
      "cell_type": "code",
      "execution_count": 219,
      "metadata": {
        "id": "kfLyBDvtBkSR"
      },
      "outputs": [],
      "source": [
        "def create_matrix_adj(G):\n",
        "\n",
        "  nodes = len(G.adj.items())\n",
        "  matrix_adj = np.zeros((nodes, nodes), int)\n",
        "\n",
        "  for node, nodedict in G.adj.items():\n",
        "    for key in nodedict.keys():\n",
        "      matrix_adj[node][key] = 1\n",
        "      matrix_adj[key][node] = 1\n",
        "\n",
        "  return matrix_adj\n"
      ]
    },
    {
      "cell_type": "markdown",
      "source": [
        "## Comparation"
      ],
      "metadata": {
        "id": "jBdTIiyU57Dj"
      }
    },
    {
      "cell_type": "code",
      "source": [
        "def compare_values(value_1, value_2):\n",
        "    comparation = (value_1/value_2)*100\n",
        "    return comparation"
      ],
      "metadata": {
        "id": "s6IrF2TL55Qj"
      },
      "execution_count": 220,
      "outputs": []
    },
    {
      "cell_type": "markdown",
      "metadata": {
        "id": "69e7mwfqSGuA"
      },
      "source": [
        "## The cost of the time\n"
      ]
    },
    {
      "cell_type": "code",
      "execution_count": 221,
      "metadata": {
        "id": "tRcHzbUcH-uj"
      },
      "outputs": [],
      "source": [
        "def method_1_cost(G):\n",
        "    # Spectral\n",
        "    time_start = time.time()\n",
        "    for i in range(number_of_measures):\n",
        "        nx.communicability(G)\n",
        "    time_end = time.time()\n",
        "\n",
        "    mean_time = (time_end - time_start)/number_of_measures\n",
        "    cost = mean_time\n",
        "    return cost\n",
        "\n",
        "\n",
        "def method_2_cost(G):\n",
        "    # Exponential\n",
        "    time_start = time.time()\n",
        "    for i in range(number_of_measures):\n",
        "        nx.communicability_exp(G)\n",
        "    time_end = time.time()\n",
        "\n",
        "    cost = mean_time = (time_end - time_start)/number_of_measures\n",
        "\n",
        "\n",
        "    return cost\n",
        "\n",
        "\n",
        "def method_3_cost(G, n):\n",
        "    # Method in serie\n",
        "    time_start = time.time()\n",
        "    matrix_adj = create_matrix_adj(G)\n",
        "    for i in range(number_of_measures):\n",
        "        matrix_c = communicability(matrix_adj, n)\n",
        "    time_end = time.time()\n",
        "\n",
        "    mean_time = (time_end - time_start)/number_of_measures\n",
        "\n",
        "    cost = mean_time\n",
        "    return cost"
      ]
    },
    {
      "cell_type": "markdown",
      "source": [
        "## Methods Relation"
      ],
      "metadata": {
        "id": "jB5_pQ9NHbmy"
      }
    },
    {
      "cell_type": "code",
      "source": [
        "def methods_ratio_1(G):\n",
        "    # Method in serie ratio\n",
        "    list_ratio = []\n",
        "    com_1 = nx_to_np(nx.communicability(G))\n",
        "    mean_1 = com_1.mean()\n",
        "\n",
        "\n",
        "    matrix_adj = create_matrix_adj(G)\n",
        "    for i in range(1, K_graphic+1):\n",
        "        matrix_c = communicability(matrix_adj, i)\n",
        "        mean = matrix_c.mean()\n",
        "        list_ratio.append(compare_values(mean, mean_1))\n",
        "\n",
        "\n",
        "    return list_ratio\n",
        "\n",
        "\n",
        "def methods_ratio_2(G):\n",
        "    list_ratio = []\n",
        "    com_2 = nx_to_np(nx.communicability_exp(G))\n",
        "    mean_2 = com_2.mean()\n",
        "\n",
        "\n",
        "    matrix_adj = create_matrix_adj(G)\n",
        "    for i in range(1, K_graphic+1):\n",
        "        matrix_c = communicability(matrix_adj, i)\n",
        "        mean = matrix_c.mean()\n",
        "        list_ratio.append(compare_values(mean, mean_2))\n",
        "\n",
        "    return list_ratio\n"
      ],
      "metadata": {
        "id": "o02-Dp4AHbr8"
      },
      "execution_count": 222,
      "outputs": []
    },
    {
      "cell_type": "markdown",
      "source": [
        "## Creating the data"
      ],
      "metadata": {
        "id": "VPuiNFnzNvTd"
      }
    },
    {
      "cell_type": "code",
      "source": [
        "def time_cost_special(nodes, edges):\n",
        "    data_cost = {}\n",
        "    list_data_time_1 = []\n",
        "    list_data_time_2 = []\n",
        "    list_data_time_3 = []\n",
        "\n",
        "    list_ratio_1 = []\n",
        "    list_ratio_2 = []\n",
        "\n",
        "    list_of_terms = []\n",
        "\n",
        "    # for the random graph with the same number of nodes and edges as zachary's karate club graph.\n",
        "    G = nx.gnm_random_graph(nodes,edges)\n",
        "\n",
        "    # Draw the graph\n",
        "    nx.draw_kamada_kawai(G, with_labels = True)\n",
        "\n",
        "    time_1 = method_1_cost(G)\n",
        "    time_2 = method_2_cost(G)\n",
        "\n",
        "    for i in range(1, K_graphic +1):\n",
        "        time_3 = method_3_cost(G, i)\n",
        "\n",
        "        list_data_time_1.append(time_1)\n",
        "        list_data_time_2.append(time_2)\n",
        "        list_data_time_3.append(time_3)\n",
        "        list_of_terms.append(i)\n",
        "\n",
        "\n",
        "    list_ratio_1 = methods_ratio_1(G)\n",
        "    list_ratio_2 = methods_ratio_2(G)\n",
        "\n",
        "    data_cost['Spectral'] = list_data_time_1\n",
        "    data_cost['Exponential'] = list_data_time_2\n",
        "    data_cost['Series'] = list_data_time_3\n",
        "    data_cost['Terms'] = list_of_terms\n",
        "    data_cost['Series-Spectral'] = list_ratio_1\n",
        "    data_cost['Series-Exponential'] = list_ratio_2\n",
        "\n",
        "\n",
        "    df = pd.DataFrame(data_cost)\n",
        "\n",
        "    return df"
      ],
      "metadata": {
        "id": "fp7XoqNPNvsd"
      },
      "execution_count": 223,
      "outputs": []
    },
    {
      "cell_type": "markdown",
      "source": [
        "## Example"
      ],
      "metadata": {
        "id": "HwfxW90bRl0s"
      }
    },
    {
      "cell_type": "markdown",
      "source": [
        "## Constants\n"
      ],
      "metadata": {
        "id": "NnhBGlwSS4sK"
      }
    },
    {
      "cell_type": "code",
      "source": [
        "# Used constants and graphs\n",
        "\n",
        "# Methods used\n",
        "# Method 1: Spectral (nx.communicability(G))\n",
        "# Method 2: Exponential (nx.communicability_exp(G))\n",
        "# Method 3: Proposed method\n",
        "\n",
        "# K for the relation\n",
        "K_graphic = 20\n",
        "\n",
        "# Equivalence\n",
        "EQUIVALENCE = 95\n",
        "\n",
        "# Mean to calculate time\n",
        "number_of_measures = 20\n"
      ],
      "metadata": {
        "id": "7JXXalv7S-UM"
      },
      "execution_count": 224,
      "outputs": []
    },
    {
      "cell_type": "code",
      "source": [
        "nodes, edges = 34, 78\n",
        "\n",
        "df = time_cost_special(nodes, edges)\n",
        "\n",
        "# Saving the data\n",
        "df.to_csv('df_special_case.csv')"
      ],
      "metadata": {
        "id": "roIwkFNQThry",
        "colab": {
          "base_uri": "https://localhost:8080/",
          "height": 516
        },
        "outputId": "7e30c389-f3b7-46a3-840d-86fc98ec5364"
      },
      "execution_count": 225,
      "outputs": [
        {
          "output_type": "display_data",
          "data": {
            "text/plain": [
              "<Figure size 640x480 with 1 Axes>"
            ],
            "image/png": "[encoded data removed]"
          },
          "metadata": {}
        }
      ]
    },
    {
      "cell_type": "markdown",
      "source": [
        "## Work with data\n"
      ],
      "metadata": {
        "id": "nhPOebGZalZy"
      }
    },
    {
      "cell_type": "code",
      "source": [
        "def work_with_data(df, name_index):\n",
        "    df_result = df.drop('Unnamed: 0', axis=1)\n",
        "    df_result.set_index(name_index, inplace=True)\n",
        "    return df_result"
      ],
      "metadata": {
        "id": "Mb5DxueiVN0Y"
      },
      "execution_count": 226,
      "outputs": []
    },
    {
      "cell_type": "code",
      "source": [
        "df_special_case = pd.read_csv('df_special_case.csv')"
      ],
      "metadata": {
        "id": "OPeVDCeVU74c"
      },
      "execution_count": 227,
      "outputs": []
    },
    {
      "cell_type": "code",
      "source": [
        "df_special_case = work_with_data(df_special_case, 'Terms')"
      ],
      "metadata": {
        "id": "kXPSQhV7VF_m"
      },
      "execution_count": 228,
      "outputs": []
    },
    {
      "cell_type": "code",
      "source": [
        "print(df_special_case)"
      ],
      "metadata": {
        "id": "L8eBy9vgJM6P",
        "colab": {
          "base_uri": "https://localhost:8080/"
        },
        "outputId": "55c454c3-6d1c-40e3-e914-046a1801b21f"
      },
      "execution_count": 229,
      "outputs": [
        {
          "output_type": "stream",
          "name": "stdout",
          "text": [
            "       Spectral  Exponential    Series  Series-Spectral  Series-Exponential\n",
            "Terms                                                                      \n",
            "1      0.150167     0.001631  0.000037         2.873691            2.873691\n",
            "2      0.150167     0.001631  0.000127         9.362184            9.362184\n",
            "3      0.150167     0.001631  0.000217        20.942657           20.942657\n",
            "4      0.150167     0.001631  0.000359        36.768126           36.768126\n",
            "5      0.150167     0.001631  0.000435        53.924820           53.924820\n",
            "6      0.150167     0.001631  0.000502        69.529637           69.529637\n",
            "7      0.150167     0.001631  0.000588        81.650421           81.650421\n",
            "8      0.150167     0.001631  0.000698        89.911403           89.911403\n",
            "9      0.150167     0.001631  0.000723        94.907258           94.907258\n",
            "10     0.150167     0.001631  0.000844        97.629978           97.629978\n",
            "11     0.150167     0.001631  0.000960        98.977734           98.977734\n",
            "12     0.150167     0.001631  0.000970        99.589694           99.589694\n",
            "13     0.150167     0.001631  0.001024        99.846061           99.846061\n",
            "14     0.150167     0.001631  0.001129        99.945825           99.945825\n",
            "15     0.150167     0.001631  0.003946        99.982050           99.982050\n",
            "16     0.150167     0.001631  0.003373        99.994384           99.994384\n",
            "17     0.150167     0.001631  0.004376        99.998336           99.998336\n",
            "18     0.150167     0.001631  0.003239        99.999532           99.999532\n",
            "19     0.150167     0.001631  0.002191        99.999875           99.999875\n",
            "20     0.150167     0.001631  0.003501        99.999968           99.999968\n"
          ]
        }
      ]
    },
    {
      "cell_type": "markdown",
      "source": [
        "## Plot data"
      ],
      "metadata": {
        "id": "VscKg6y3XfIG"
      }
    },
    {
      "cell_type": "code",
      "source": [
        "def plot_data_time(df, name_x_axis, name_y_axis, title = None, scale = None, title_legend = None, marker_k = False, marker_value = 95):\n",
        "\n",
        "    trace_1 = go.Scatter(x=df.index, y=df['Spectral'], mode='markers', name='Espectral')\n",
        "    trace_2 = go.Scatter(x=df.index, y=df['Exponential'], mode='markers', name='Exponencial')\n",
        "    trace_3 = go.Scatter(x=df.index, y=df['Series'], mode='markers', name='Série')\n",
        "\n",
        "    fig = go.Figure(data=[trace_1, trace_2, trace_3])\n",
        "\n",
        "    fig.update_layout(\n",
        "        title = {\n",
        "            'text':  title,\n",
        "            'font': {\n",
        "                'size': 32,\n",
        "                'family': 'Arial',\n",
        "            },\n",
        "            'x': 0.5\n",
        "        },\n",
        "\n",
        "        legend = {\n",
        "            'title': {\n",
        "                'text': title_legend,\n",
        "                'font': {\n",
        "                    'size': 24,\n",
        "                    'family': 'Arial',\n",
        "                },\n",
        "            },\n",
        "            'font': {\n",
        "                'size': 20,\n",
        "                'family': 'Arial',\n",
        "            },\n",
        "        },\n",
        "\n",
        "\n",
        "        xaxis_title_text= name_x_axis,\n",
        "        yaxis_title_text= name_y_axis,\n",
        "\n",
        "        width = 800,\n",
        "        height= 600,\n",
        "\n",
        "        grid = {\n",
        "\n",
        "        }\n",
        "\n",
        "    )\n",
        "\n",
        "    # Marker k*\n",
        "    if marker_k == True:\n",
        "        k = 0\n",
        "        # for value in df['Series-Exponential']:\n",
        "        for value in df['Série/Exponencial']:\n",
        "            k = k +1\n",
        "            if value > marker_value:\n",
        "                pos_x = k\n",
        "                pos_y = value\n",
        "                print(pos_x, pos_y)\n",
        "                break\n",
        "\n",
        "        fig.add_trace(\n",
        "            go.Scatter(\n",
        "                name = 'k*',\n",
        "                x= [pos_x],\n",
        "                y= [pos_y],\n",
        "                mode='markers',\n",
        "                marker=dict(size=22,\n",
        "                              line=dict(width=2,\n",
        "                                        color='DarkSlateGrey')),\n",
        "                showlegend=False,\n",
        "            )\n",
        "        )\n",
        "\n",
        "        fig.update_traces(marker=dict(size=8))\n",
        "        fig.add_annotation(\n",
        "            x = pos_x,\n",
        "            y = pos_y,\n",
        "            text = f'k*: {pos_x}',\n",
        "            font = {\n",
        "                'size': 24,\n",
        "                'family': 'Arial',\n",
        "            },\n",
        "\n",
        "            showarrow=True,\n",
        "            arrowhead=1,\n",
        "        )\n",
        "\n",
        "    # Retired the grid\n",
        "    fig.update_xaxes (\n",
        "        showgrid=True,\n",
        "        title_font = dict(\n",
        "            size= 24,\n",
        "            family= 'Arial'),\n",
        "        tickfont=dict(\n",
        "            size=20),\n",
        "        ticks = 'inside',\n",
        "        nticks = 20\n",
        "        )\n",
        "    fig.update_yaxes (\n",
        "        showgrid=True,\n",
        "        title_font = dict(\n",
        "            size= 24,\n",
        "            family= 'Arial'),\n",
        "        type = scale,\n",
        "        tickfont=dict(\n",
        "            size=20),\n",
        "        ticks = 'inside'\n",
        "        )\n",
        "\n",
        "    fig.update_layout(showlegend=True)\n",
        "    fig.show()"
      ],
      "metadata": {
        "id": "n4gJ9XGoXeAk"
      },
      "execution_count": 230,
      "outputs": []
    },
    {
      "cell_type": "code",
      "source": [
        "def plot_data_ratio(df, name_x_axis, name_y_axis, title = None, scale = None, title_legend = None, marker_k = False, marker_value = 95):\n",
        "\n",
        "    trace_1 = go.Scatter(x=df.index, y=df['Series-Spectral'], mode='markers', name='Série/Espectral')\n",
        "    trace_2 = go.Scatter(x=df.index, y=df['Series-Exponential'], mode='markers', name='Série/Exponencial')\n",
        "\n",
        "    fig = go.Figure(data=[trace_1, trace_2])\n",
        "\n",
        "    fig.update_layout(\n",
        "        title = {\n",
        "            'text':  title,\n",
        "            'font': {\n",
        "                'size': 32,\n",
        "                'family': 'Arial',\n",
        "            },\n",
        "            'x': 0.5\n",
        "        },\n",
        "\n",
        "        legend = {\n",
        "            'title': {\n",
        "                'text': title_legend,\n",
        "                'font': {\n",
        "                    'size': 24,\n",
        "                    'family': 'Arial',\n",
        "                },\n",
        "            },\n",
        "            'font': {\n",
        "                'size': 20,\n",
        "                'family': 'Arial',\n",
        "            },\n",
        "        },\n",
        "\n",
        "\n",
        "        xaxis_title_text= name_x_axis,\n",
        "        yaxis_title_text= name_y_axis,\n",
        "\n",
        "        width = 800,\n",
        "        height= 600,\n",
        "\n",
        "        grid = {\n",
        "\n",
        "        }\n",
        "\n",
        "    )\n",
        "\n",
        "    # Marker k*\n",
        "    if marker_k == True:\n",
        "        k = 0\n",
        "        for value in df['Series-Spectral']:\n",
        "            k = k +1\n",
        "            if value > marker_value:\n",
        "                pos_x = k\n",
        "                pos_y = value\n",
        "                print(pos_x, pos_y)\n",
        "                break\n",
        "\n",
        "        fig.add_trace(\n",
        "            go.Scatter(\n",
        "                name = 'k*',\n",
        "                x= [pos_x],\n",
        "                y= [pos_y],\n",
        "                mode='markers',\n",
        "                marker=dict(size=22,\n",
        "                              line=dict(width=2,\n",
        "                                        color='DarkSlateGrey')),\n",
        "                showlegend=False,\n",
        "            )\n",
        "        )\n",
        "\n",
        "        fig.update_traces(marker=dict(size=8))\n",
        "        fig.add_annotation(\n",
        "            x = pos_x,\n",
        "            y = pos_y,\n",
        "            text = f'k*: {pos_x}',\n",
        "            font = {\n",
        "                'size': 24,\n",
        "                'family': 'Arial',\n",
        "            },\n",
        "\n",
        "            showarrow=True,\n",
        "            arrowhead=1,\n",
        "        )\n",
        "\n",
        "    # Retired the grid\n",
        "    fig.update_xaxes (\n",
        "        showgrid=True,\n",
        "        title_font = dict(\n",
        "            size= 24,\n",
        "            family= 'Arial'),\n",
        "        tickfont=dict(\n",
        "            size=20),\n",
        "        ticks = 'inside',\n",
        "        nticks = 20\n",
        "        )\n",
        "    fig.update_yaxes (\n",
        "        showgrid=True,\n",
        "        title_font = dict(\n",
        "            size= 24,\n",
        "            family= 'Arial'),\n",
        "        type = scale,\n",
        "        tickfont=dict(\n",
        "            size=20),\n",
        "        ticks = 'inside'\n",
        "        )\n",
        "\n",
        "    fig.update_layout(showlegend=True)\n",
        "    fig.show()"
      ],
      "metadata": {
        "id": "W26PSdb-kBUD"
      },
      "execution_count": 231,
      "outputs": []
    },
    {
      "cell_type": "markdown",
      "source": [
        "## Special case"
      ],
      "metadata": {
        "id": "tHQ6rtO4L86N"
      }
    },
    {
      "cell_type": "code",
      "source": [
        "plot_data_time(df_special_case,'Termos [k]', 'log[Tempo [s]]', scale=  'log')"
      ],
      "metadata": {
        "id": "7yAsbo6WNWkX",
        "colab": {
          "base_uri": "https://localhost:8080/",
          "height": 617
        },
        "outputId": "303d89a4-7a0a-44b3-d6d4-2e16806cb751"
      },
      "execution_count": 232,
      "outputs": [
        {
          "output_type": "display_data",
          "data": {
            "text/html": [
              "<html>\n",
              "<head><meta charset=\"utf-8\" /></head>\n",
              "<body>\n",
              "    <div>            <script src=\"https://cdnjs.cloudflare.com/ajax/libs/mathjax/2.7.5/MathJax.js?config=TeX-AMS-MML_SVG\"></script><script type=\"text/javascript\">if (window.MathJax && window.MathJax.Hub && window.MathJax.Hub.Config) {window.MathJax.Hub.Config({SVG: {font: \"STIX-Web\"}});}</script>                <script type=\"text/javascript\">window.PlotlyConfig = {MathJaxConfig: 'local'};</script>\n",
              "        <script src=\"https://cdn.plot.ly/plotly-2.18.2.min.js\"></script>                <div id=\"878f73e4-e006-45ac-8594-a728364613ec\" class=\"plotly-graph-div\" style=\"height:600px; width:800px;\"></div>            <script type=\"text/javascript\">                                    window.PLOTLYENV=window.PLOTLYENV || {};                                    if (document.getElementById(\"878f73e4-e006-45ac-8594-a728364613ec\")) {                    Plotly.newPlot(                        \"878f73e4-e006-45ac-8594-a728364613ec\",                        [{\"mode\":\"markers\",\"name\":\"Espectral\",\"x\":[1,2,3,4,5,6,7,8,9,10,11,12,13,14,15,16,17,18,19,20],\"y\":[0.1501671552658081,0.1501671552658081,0.1501671552658081,0.1501671552658081,0.1501671552658081,0.1501671552658081,0.1501671552658081,0.1501671552658081,0.1501671552658081,0.1501671552658081,0.1501671552658081,0.1501671552658081,0.1501671552658081,0.1501671552658081,0.1501671552658081,0.1501671552658081,0.1501671552658081,0.1501671552658081,0.1501671552658081,0.1501671552658081],\"type\":\"scatter\"},{\"mode\":\"markers\",\"name\":\"Exponencial\",\"x\":[1,2,3,4,5,6,7,8,9,10,11,12,13,14,15,16,17,18,19,20],\"y\":[0.0016309261322021,0.0016309261322021,0.0016309261322021,0.0016309261322021,0.0016309261322021,0.0016309261322021,0.0016309261322021,0.0016309261322021,0.0016309261322021,0.0016309261322021,0.0016309261322021,0.0016309261322021,0.0016309261322021,0.0016309261322021,0.0016309261322021,0.0016309261322021,0.0016309261322021,0.0016309261322021,0.0016309261322021,0.0016309261322021],\"type\":\"scatter\"},{\"mode\":\"markers\",\"name\":\"S\\u00e9rie\",\"x\":[1,2,3,4,5,6,7,8,9,10,11,12,13,14,15,16,17,18,19,20],\"y\":[3.671646118164063e-05,0.0001271247863769,0.0002171158790588,0.0003594994544982,0.0004345655441284,0.0005021810531616,0.0005884170532226,0.0006978750228881,0.0007226228713989,0.0008436441421508,0.000960373878479,0.0009701967239379,0.0010241985321044,0.0011292576789855,0.0039459586143493,0.0033732533454895,0.0043756961822509,0.0032385945320129,0.0021913886070251,0.0035006046295166],\"type\":\"scatter\"}],                        {\"template\":{\"data\":{\"histogram2dcontour\":[{\"type\":\"histogram2dcontour\",\"colorbar\":{\"outlinewidth\":0,\"ticks\":\"\"},\"colorscale\":[[0.0,\"#0d0887\"],[0.1111111111111111,\"#46039f\"],[0.2222222222222222,\"#7201a8\"],[0.3333333333333333,\"#9c179e\"],[0.4444444444444444,\"#bd3786\"],[0.5555555555555556,\"#d8576b\"],[0.6666666666666666,\"#ed7953\"],[0.7777777777777778,\"#fb9f3a\"],[0.8888888888888888,\"#fdca26\"],[1.0,\"#f0f921\"]]}],\"choropleth\":[{\"type\":\"choropleth\",\"colorbar\":{\"outlinewidth\":0,\"ticks\":\"\"}}],\"histogram2d\":[{\"type\":\"histogram2d\",\"colorbar\":{\"outlinewidth\":0,\"ticks\":\"\"},\"colorscale\":[[0.0,\"#0d0887\"],[0.1111111111111111,\"#46039f\"],[0.2222222222222222,\"#7201a8\"],[0.3333333333333333,\"#9c179e\"],[0.4444444444444444,\"#bd3786\"],[0.5555555555555556,\"#d8576b\"],[0.6666666666666666,\"#ed7953\"],[0.7777777777777778,\"#fb9f3a\"],[0.8888888888888888,\"#fdca26\"],[1.0,\"#f0f921\"]]}],\"heatmap\":[{\"type\":\"heatmap\",\"colorbar\":{\"outlinewidth\":0,\"ticks\":\"\"},\"colorscale\":[[0.0,\"#0d0887\"],[0.1111111111111111,\"#46039f\"],[0.2222222222222222,\"#7201a8\"],[0.3333333333333333,\"#9c179e\"],[0.4444444444444444,\"#bd3786\"],[0.5555555555555556,\"#d8576b\"],[0.6666666666666666,\"#ed7953\"],[0.7777777777777778,\"#fb9f3a\"],[0.8888888888888888,\"#fdca26\"],[1.0,\"#f0f921\"]]}],\"heatmapgl\":[{\"type\":\"heatmapgl\",\"colorbar\":{\"outlinewidth\":0,\"ticks\":\"\"},\"colorscale\":[[0.0,\"#0d0887\"],[0.1111111111111111,\"#46039f\"],[0.2222222222222222,\"#7201a8\"],[0.3333333333333333,\"#9c179e\"],[0.4444444444444444,\"#bd3786\"],[0.5555555555555556,\"#d8576b\"],[0.6666666666666666,\"#ed7953\"],[0.7777777777777778,\"#fb9f3a\"],[0.8888888888888888,\"#fdca26\"],[1.0,\"#f0f921\"]]}],\"contourcarpet\":[{\"type\":\"contourcarpet\",\"colorbar\":{\"outlinewidth\":0,\"ticks\":\"\"}}],\"contour\":[{\"type\":\"contour\",\"colorbar\":{\"outlinewidth\":0,\"ticks\":\"\"},\"colorscale\":[[0.0,\"#0d0887\"],[0.1111111111111111,\"#46039f\"],[0.2222222222222222,\"#7201a8\"],[0.3333333333333333,\"#9c179e\"],[0.4444444444444444,\"#bd3786\"],[0.5555555555555556,\"#d8576b\"],[0.6666666666666666,\"#ed7953\"],[0.7777777777777778,\"#fb9f3a\"],[0.8888888888888888,\"#fdca26\"],[1.0,\"#f0f921\"]]}],\"surface\":[{\"type\":\"surface\",\"colorbar\":{\"outlinewidth\":0,\"ticks\":\"\"},\"colorscale\":[[0.0,\"#0d0887\"],[0.1111111111111111,\"#46039f\"],[0.2222222222222222,\"#7201a8\"],[0.3333333333333333,\"#9c179e\"],[0.4444444444444444,\"#bd3786\"],[0.5555555555555556,\"#d8576b\"],[0.6666666666666666,\"#ed7953\"],[0.7777777777777778,\"#fb9f3a\"],[0.8888888888888888,\"#fdca26\"],[1.0,\"#f0f921\"]]}],\"mesh3d\":[{\"type\":\"mesh3d\",\"colorbar\":{\"outlinewidth\":0,\"ticks\":\"\"}}],\"scatter\":[{\"fillpattern\":{\"fillmode\":\"overlay\",\"size\":10,\"solidity\":0.2},\"type\":\"scatter\"}],\"parcoords\":[{\"type\":\"parcoords\",\"line\":{\"colorbar\":{\"outlinewidth\":0,\"ticks\":\"\"}}}],\"scatterpolargl\":[{\"type\":\"scatterpolargl\",\"marker\":{\"colorbar\":{\"outlinewidth\":0,\"ticks\":\"\"}}}],\"bar\":[{\"error_x\":{\"color\":\"#2a3f5f\"},\"error_y\":{\"color\":\"#2a3f5f\"},\"marker\":{\"line\":{\"color\":\"#E5ECF6\",\"width\":0.5},\"pattern\":{\"fillmode\":\"overlay\",\"size\":10,\"solidity\":0.2}},\"type\":\"bar\"}],\"scattergeo\":[{\"type\":\"scattergeo\",\"marker\":{\"colorbar\":{\"outlinewidth\":0,\"ticks\":\"\"}}}],\"scatterpolar\":[{\"type\":\"scatterpolar\",\"marker\":{\"colorbar\":{\"outlinewidth\":0,\"ticks\":\"\"}}}],\"histogram\":[{\"marker\":{\"pattern\":{\"fillmode\":\"overlay\",\"size\":10,\"solidity\":0.2}},\"type\":\"histogram\"}],\"scattergl\":[{\"type\":\"scattergl\",\"marker\":{\"colorbar\":{\"outlinewidth\":0,\"ticks\":\"\"}}}],\"scatter3d\":[{\"type\":\"scatter3d\",\"line\":{\"colorbar\":{\"outlinewidth\":0,\"ticks\":\"\"}},\"marker\":{\"colorbar\":{\"outlinewidth\":0,\"ticks\":\"\"}}}],\"scattermapbox\":[{\"type\":\"scattermapbox\",\"marker\":{\"colorbar\":{\"outlinewidth\":0,\"ticks\":\"\"}}}],\"scatterternary\":[{\"type\":\"scatterternary\",\"marker\":{\"colorbar\":{\"outlinewidth\":0,\"ticks\":\"\"}}}],\"scattercarpet\":[{\"type\":\"scattercarpet\",\"marker\":{\"colorbar\":{\"outlinewidth\":0,\"ticks\":\"\"}}}],\"carpet\":[{\"aaxis\":{\"endlinecolor\":\"#2a3f5f\",\"gridcolor\":\"white\",\"linecolor\":\"white\",\"minorgridcolor\":\"white\",\"startlinecolor\":\"#2a3f5f\"},\"baxis\":{\"endlinecolor\":\"#2a3f5f\",\"gridcolor\":\"white\",\"linecolor\":\"white\",\"minorgridcolor\":\"white\",\"startlinecolor\":\"#2a3f5f\"},\"type\":\"carpet\"}],\"table\":[{\"cells\":{\"fill\":{\"color\":\"#EBF0F8\"},\"line\":{\"color\":\"white\"}},\"header\":{\"fill\":{\"color\":\"#C8D4E3\"},\"line\":{\"color\":\"white\"}},\"type\":\"table\"}],\"barpolar\":[{\"marker\":{\"line\":{\"color\":\"#E5ECF6\",\"width\":0.5},\"pattern\":{\"fillmode\":\"overlay\",\"size\":10,\"solidity\":0.2}},\"type\":\"barpolar\"}],\"pie\":[{\"automargin\":true,\"type\":\"pie\"}]},\"layout\":{\"autotypenumbers\":\"strict\",\"colorway\":[\"#636efa\",\"#EF553B\",\"#00cc96\",\"#ab63fa\",\"#FFA15A\",\"#19d3f3\",\"#FF6692\",\"#B6E880\",\"#FF97FF\",\"#FECB52\"],\"font\":{\"color\":\"#2a3f5f\"},\"hovermode\":\"closest\",\"hoverlabel\":{\"align\":\"left\"},\"paper_bgcolor\":\"white\",\"plot_bgcolor\":\"#E5ECF6\",\"polar\":{\"bgcolor\":\"#E5ECF6\",\"angularaxis\":{\"gridcolor\":\"white\",\"linecolor\":\"white\",\"ticks\":\"\"},\"radialaxis\":{\"gridcolor\":\"white\",\"linecolor\":\"white\",\"ticks\":\"\"}},\"ternary\":{\"bgcolor\":\"#E5ECF6\",\"aaxis\":{\"gridcolor\":\"white\",\"linecolor\":\"white\",\"ticks\":\"\"},\"baxis\":{\"gridcolor\":\"white\",\"linecolor\":\"white\",\"ticks\":\"\"},\"caxis\":{\"gridcolor\":\"white\",\"linecolor\":\"white\",\"ticks\":\"\"}},\"coloraxis\":{\"colorbar\":{\"outlinewidth\":0,\"ticks\":\"\"}},\"colorscale\":{\"sequential\":[[0.0,\"#0d0887\"],[0.1111111111111111,\"#46039f\"],[0.2222222222222222,\"#7201a8\"],[0.3333333333333333,\"#9c179e\"],[0.4444444444444444,\"#bd3786\"],[0.5555555555555556,\"#d8576b\"],[0.6666666666666666,\"#ed7953\"],[0.7777777777777778,\"#fb9f3a\"],[0.8888888888888888,\"#fdca26\"],[1.0,\"#f0f921\"]],\"sequentialminus\":[[0.0,\"#0d0887\"],[0.1111111111111111,\"#46039f\"],[0.2222222222222222,\"#7201a8\"],[0.3333333333333333,\"#9c179e\"],[0.4444444444444444,\"#bd3786\"],[0.5555555555555556,\"#d8576b\"],[0.6666666666666666,\"#ed7953\"],[0.7777777777777778,\"#fb9f3a\"],[0.8888888888888888,\"#fdca26\"],[1.0,\"#f0f921\"]],\"diverging\":[[0,\"#8e0152\"],[0.1,\"#c51b7d\"],[0.2,\"#de77ae\"],[0.3,\"#f1b6da\"],[0.4,\"#fde0ef\"],[0.5,\"#f7f7f7\"],[0.6,\"#e6f5d0\"],[0.7,\"#b8e186\"],[0.8,\"#7fbc41\"],[0.9,\"#4d9221\"],[1,\"#276419\"]]},\"xaxis\":{\"gridcolor\":\"white\",\"linecolor\":\"white\",\"ticks\":\"\",\"title\":{\"standoff\":15},\"zerolinecolor\":\"white\",\"automargin\":true,\"zerolinewidth\":2},\"yaxis\":{\"gridcolor\":\"white\",\"linecolor\":\"white\",\"ticks\":\"\",\"title\":{\"standoff\":15},\"zerolinecolor\":\"white\",\"automargin\":true,\"zerolinewidth\":2},\"scene\":{\"xaxis\":{\"backgroundcolor\":\"#E5ECF6\",\"gridcolor\":\"white\",\"linecolor\":\"white\",\"showbackground\":true,\"ticks\":\"\",\"zerolinecolor\":\"white\",\"gridwidth\":2},\"yaxis\":{\"backgroundcolor\":\"#E5ECF6\",\"gridcolor\":\"white\",\"linecolor\":\"white\",\"showbackground\":true,\"ticks\":\"\",\"zerolinecolor\":\"white\",\"gridwidth\":2},\"zaxis\":{\"backgroundcolor\":\"#E5ECF6\",\"gridcolor\":\"white\",\"linecolor\":\"white\",\"showbackground\":true,\"ticks\":\"\",\"zerolinecolor\":\"white\",\"gridwidth\":2}},\"shapedefaults\":{\"line\":{\"color\":\"#2a3f5f\"}},\"annotationdefaults\":{\"arrowcolor\":\"#2a3f5f\",\"arrowhead\":0,\"arrowwidth\":1},\"geo\":{\"bgcolor\":\"white\",\"landcolor\":\"#E5ECF6\",\"subunitcolor\":\"white\",\"showland\":true,\"showlakes\":true,\"lakecolor\":\"white\"},\"title\":{\"x\":0.05},\"mapbox\":{\"style\":\"light\"}}},\"title\":{\"font\":{\"size\":32,\"family\":\"Arial\"},\"x\":0.5},\"legend\":{\"title\":{\"font\":{\"size\":24,\"family\":\"Arial\"}},\"font\":{\"size\":20,\"family\":\"Arial\"}},\"xaxis\":{\"title\":{\"text\":\"Termos [k]\",\"font\":{\"size\":24,\"family\":\"Arial\"}},\"tickfont\":{\"size\":20},\"showgrid\":true,\"ticks\":\"inside\",\"nticks\":20},\"yaxis\":{\"title\":{\"text\":\"log[Tempo [s]]\",\"font\":{\"size\":24,\"family\":\"Arial\"}},\"tickfont\":{\"size\":20},\"showgrid\":true,\"type\":\"log\",\"ticks\":\"inside\"},\"width\":800,\"height\":600,\"showlegend\":true},                        {\"responsive\": true}                    ).then(function(){\n",
              "                            \n",
              "var gd = document.getElementById('878f73e4-e006-45ac-8594-a728364613ec');\n",
              "var x = new MutationObserver(function (mutations, observer) {{\n",
              "        var display = window.getComputedStyle(gd).display;\n",
              "        if (!display || display === 'none') {{\n",
              "            console.log([gd, 'removed!']);\n",
              "            Plotly.purge(gd);\n",
              "            observer.disconnect();\n",
              "        }}\n",
              "}});\n",
              "\n",
              "// Listen for the removal of the full notebook cells\n",
              "var notebookContainer = gd.closest('#notebook-container');\n",
              "if (notebookContainer) {{\n",
              "    x.observe(notebookContainer, {childList: true});\n",
              "}}\n",
              "\n",
              "// Listen for the clearing of the current output cell\n",
              "var outputEl = gd.closest('.output');\n",
              "if (outputEl) {{\n",
              "    x.observe(outputEl, {childList: true});\n",
              "}}\n",
              "\n",
              "                        })                };                            </script>        </div>\n",
              "</body>\n",
              "</html>"
            ]
          },
          "metadata": {}
        }
      ]
    },
    {
      "cell_type": "code",
      "source": [
        "plot_data_ratio(df_special_case,  'Termos [k]', 'Razão [%]', marker_k = True)"
      ],
      "metadata": {
        "id": "lvG1Zp5qPH3x",
        "colab": {
          "base_uri": "https://localhost:8080/",
          "height": 635
        },
        "outputId": "f2aab498-62c2-4dd5-dbbb-250b7b08fb54"
      },
      "execution_count": 233,
      "outputs": [
        {
          "output_type": "stream",
          "name": "stdout",
          "text": [
            "10 97.6299776466328\n"
          ]
        },
        {
          "output_type": "display_data",
          "data": {
            "text/html": [
              "<html>\n",
              "<head><meta charset=\"utf-8\" /></head>\n",
              "<body>\n",
              "    <div>            <script src=\"https://cdnjs.cloudflare.com/ajax/libs/mathjax/2.7.5/MathJax.js?config=TeX-AMS-MML_SVG\"></script><script type=\"text/javascript\">if (window.MathJax && window.MathJax.Hub && window.MathJax.Hub.Config) {window.MathJax.Hub.Config({SVG: {font: \"STIX-Web\"}});}</script>                <script type=\"text/javascript\">window.PlotlyConfig = {MathJaxConfig: 'local'};</script>\n",
              "        <script src=\"https://cdn.plot.ly/plotly-2.18.2.min.js\"></script>                <div id=\"3cc6c6ba-5fd9-42ec-b2a7-d7dfcf72f704\" class=\"plotly-graph-div\" style=\"height:600px; width:800px;\"></div>            <script type=\"text/javascript\">                                    window.PLOTLYENV=window.PLOTLYENV || {};                                    if (document.getElementById(\"3cc6c6ba-5fd9-42ec-b2a7-d7dfcf72f704\")) {                    Plotly.newPlot(                        \"3cc6c6ba-5fd9-42ec-b2a7-d7dfcf72f704\",                        [{\"mode\":\"markers\",\"name\":\"S\\u00e9rie/Espectral\",\"x\":[1,2,3,4,5,6,7,8,9,10,11,12,13,14,15,16,17,18,19,20],\"y\":[2.87369144418088,9.362184231305076,20.942656594960308,36.76812579370378,53.92481995005421,69.52963670048133,81.65042067351615,89.91140280231264,94.90725806024062,97.6299776466328,98.97773424234676,99.58969396528624,99.84606105676733,99.94582523043252,99.98205008157908,99.99438393570033,99.99833573325392,99.99953169864558,99.9998745626214,99.999967948076],\"type\":\"scatter\",\"marker\":{\"size\":8}},{\"mode\":\"markers\",\"name\":\"S\\u00e9rie/Exponencial\",\"x\":[1,2,3,4,5,6,7,8,9,10,11,12,13,14,15,16,17,18,19,20],\"y\":[2.873691444180872,9.36218423130505,20.942656594960248,36.76812579370368,53.92481995005407,69.52963670048115,81.65042067351592,89.91140280231238,94.90725806024037,97.62997764663255,98.97773424234649,99.58969396528596,99.84606105676706,99.94582523043223,99.9820500815788,99.99438393570004,99.99833573325364,99.9995316986453,99.99987456262112,99.9999679480757],\"type\":\"scatter\",\"marker\":{\"size\":8}},{\"marker\":{\"line\":{\"color\":\"DarkSlateGrey\",\"width\":2},\"size\":8},\"mode\":\"markers\",\"name\":\"k*\",\"showlegend\":false,\"x\":[10],\"y\":[97.6299776466328],\"type\":\"scatter\"}],                        {\"template\":{\"data\":{\"histogram2dcontour\":[{\"type\":\"histogram2dcontour\",\"colorbar\":{\"outlinewidth\":0,\"ticks\":\"\"},\"colorscale\":[[0.0,\"#0d0887\"],[0.1111111111111111,\"#46039f\"],[0.2222222222222222,\"#7201a8\"],[0.3333333333333333,\"#9c179e\"],[0.4444444444444444,\"#bd3786\"],[0.5555555555555556,\"#d8576b\"],[0.6666666666666666,\"#ed7953\"],[0.7777777777777778,\"#fb9f3a\"],[0.8888888888888888,\"#fdca26\"],[1.0,\"#f0f921\"]]}],\"choropleth\":[{\"type\":\"choropleth\",\"colorbar\":{\"outlinewidth\":0,\"ticks\":\"\"}}],\"histogram2d\":[{\"type\":\"histogram2d\",\"colorbar\":{\"outlinewidth\":0,\"ticks\":\"\"},\"colorscale\":[[0.0,\"#0d0887\"],[0.1111111111111111,\"#46039f\"],[0.2222222222222222,\"#7201a8\"],[0.3333333333333333,\"#9c179e\"],[0.4444444444444444,\"#bd3786\"],[0.5555555555555556,\"#d8576b\"],[0.6666666666666666,\"#ed7953\"],[0.7777777777777778,\"#fb9f3a\"],[0.8888888888888888,\"#fdca26\"],[1.0,\"#f0f921\"]]}],\"heatmap\":[{\"type\":\"heatmap\",\"colorbar\":{\"outlinewidth\":0,\"ticks\":\"\"},\"colorscale\":[[0.0,\"#0d0887\"],[0.1111111111111111,\"#46039f\"],[0.2222222222222222,\"#7201a8\"],[0.3333333333333333,\"#9c179e\"],[0.4444444444444444,\"#bd3786\"],[0.5555555555555556,\"#d8576b\"],[0.6666666666666666,\"#ed7953\"],[0.7777777777777778,\"#fb9f3a\"],[0.8888888888888888,\"#fdca26\"],[1.0,\"#f0f921\"]]}],\"heatmapgl\":[{\"type\":\"heatmapgl\",\"colorbar\":{\"outlinewidth\":0,\"ticks\":\"\"},\"colorscale\":[[0.0,\"#0d0887\"],[0.1111111111111111,\"#46039f\"],[0.2222222222222222,\"#7201a8\"],[0.3333333333333333,\"#9c179e\"],[0.4444444444444444,\"#bd3786\"],[0.5555555555555556,\"#d8576b\"],[0.6666666666666666,\"#ed7953\"],[0.7777777777777778,\"#fb9f3a\"],[0.8888888888888888,\"#fdca26\"],[1.0,\"#f0f921\"]]}],\"contourcarpet\":[{\"type\":\"contourcarpet\",\"colorbar\":{\"outlinewidth\":0,\"ticks\":\"\"}}],\"contour\":[{\"type\":\"contour\",\"colorbar\":{\"outlinewidth\":0,\"ticks\":\"\"},\"colorscale\":[[0.0,\"#0d0887\"],[0.1111111111111111,\"#46039f\"],[0.2222222222222222,\"#7201a8\"],[0.3333333333333333,\"#9c179e\"],[0.4444444444444444,\"#bd3786\"],[0.5555555555555556,\"#d8576b\"],[0.6666666666666666,\"#ed7953\"],[0.7777777777777778,\"#fb9f3a\"],[0.8888888888888888,\"#fdca26\"],[1.0,\"#f0f921\"]]}],\"surface\":[{\"type\":\"surface\",\"colorbar\":{\"outlinewidth\":0,\"ticks\":\"\"},\"colorscale\":[[0.0,\"#0d0887\"],[0.1111111111111111,\"#46039f\"],[0.2222222222222222,\"#7201a8\"],[0.3333333333333333,\"#9c179e\"],[0.4444444444444444,\"#bd3786\"],[0.5555555555555556,\"#d8576b\"],[0.6666666666666666,\"#ed7953\"],[0.7777777777777778,\"#fb9f3a\"],[0.8888888888888888,\"#fdca26\"],[1.0,\"#f0f921\"]]}],\"mesh3d\":[{\"type\":\"mesh3d\",\"colorbar\":{\"outlinewidth\":0,\"ticks\":\"\"}}],\"scatter\":[{\"fillpattern\":{\"fillmode\":\"overlay\",\"size\":10,\"solidity\":0.2},\"type\":\"scatter\"}],\"parcoords\":[{\"type\":\"parcoords\",\"line\":{\"colorbar\":{\"outlinewidth\":0,\"ticks\":\"\"}}}],\"scatterpolargl\":[{\"type\":\"scatterpolargl\",\"marker\":{\"colorbar\":{\"outlinewidth\":0,\"ticks\":\"\"}}}],\"bar\":[{\"error_x\":{\"color\":\"#2a3f5f\"},\"error_y\":{\"color\":\"#2a3f5f\"},\"marker\":{\"line\":{\"color\":\"#E5ECF6\",\"width\":0.5},\"pattern\":{\"fillmode\":\"overlay\",\"size\":10,\"solidity\":0.2}},\"type\":\"bar\"}],\"scattergeo\":[{\"type\":\"scattergeo\",\"marker\":{\"colorbar\":{\"outlinewidth\":0,\"ticks\":\"\"}}}],\"scatterpolar\":[{\"type\":\"scatterpolar\",\"marker\":{\"colorbar\":{\"outlinewidth\":0,\"ticks\":\"\"}}}],\"histogram\":[{\"marker\":{\"pattern\":{\"fillmode\":\"overlay\",\"size\":10,\"solidity\":0.2}},\"type\":\"histogram\"}],\"scattergl\":[{\"type\":\"scattergl\",\"marker\":{\"colorbar\":{\"outlinewidth\":0,\"ticks\":\"\"}}}],\"scatter3d\":[{\"type\":\"scatter3d\",\"line\":{\"colorbar\":{\"outlinewidth\":0,\"ticks\":\"\"}},\"marker\":{\"colorbar\":{\"outlinewidth\":0,\"ticks\":\"\"}}}],\"scattermapbox\":[{\"type\":\"scattermapbox\",\"marker\":{\"colorbar\":{\"outlinewidth\":0,\"ticks\":\"\"}}}],\"scatterternary\":[{\"type\":\"scatterternary\",\"marker\":{\"colorbar\":{\"outlinewidth\":0,\"ticks\":\"\"}}}],\"scattercarpet\":[{\"type\":\"scattercarpet\",\"marker\":{\"colorbar\":{\"outlinewidth\":0,\"ticks\":\"\"}}}],\"carpet\":[{\"aaxis\":{\"endlinecolor\":\"#2a3f5f\",\"gridcolor\":\"white\",\"linecolor\":\"white\",\"minorgridcolor\":\"white\",\"startlinecolor\":\"#2a3f5f\"},\"baxis\":{\"endlinecolor\":\"#2a3f5f\",\"gridcolor\":\"white\",\"linecolor\":\"white\",\"minorgridcolor\":\"white\",\"startlinecolor\":\"#2a3f5f\"},\"type\":\"carpet\"}],\"table\":[{\"cells\":{\"fill\":{\"color\":\"#EBF0F8\"},\"line\":{\"color\":\"white\"}},\"header\":{\"fill\":{\"color\":\"#C8D4E3\"},\"line\":{\"color\":\"white\"}},\"type\":\"table\"}],\"barpolar\":[{\"marker\":{\"line\":{\"color\":\"#E5ECF6\",\"width\":0.5},\"pattern\":{\"fillmode\":\"overlay\",\"size\":10,\"solidity\":0.2}},\"type\":\"barpolar\"}],\"pie\":[{\"automargin\":true,\"type\":\"pie\"}]},\"layout\":{\"autotypenumbers\":\"strict\",\"colorway\":[\"#636efa\",\"#EF553B\",\"#00cc96\",\"#ab63fa\",\"#FFA15A\",\"#19d3f3\",\"#FF6692\",\"#B6E880\",\"#FF97FF\",\"#FECB52\"],\"font\":{\"color\":\"#2a3f5f\"},\"hovermode\":\"closest\",\"hoverlabel\":{\"align\":\"left\"},\"paper_bgcolor\":\"white\",\"plot_bgcolor\":\"#E5ECF6\",\"polar\":{\"bgcolor\":\"#E5ECF6\",\"angularaxis\":{\"gridcolor\":\"white\",\"linecolor\":\"white\",\"ticks\":\"\"},\"radialaxis\":{\"gridcolor\":\"white\",\"linecolor\":\"white\",\"ticks\":\"\"}},\"ternary\":{\"bgcolor\":\"#E5ECF6\",\"aaxis\":{\"gridcolor\":\"white\",\"linecolor\":\"white\",\"ticks\":\"\"},\"baxis\":{\"gridcolor\":\"white\",\"linecolor\":\"white\",\"ticks\":\"\"},\"caxis\":{\"gridcolor\":\"white\",\"linecolor\":\"white\",\"ticks\":\"\"}},\"coloraxis\":{\"colorbar\":{\"outlinewidth\":0,\"ticks\":\"\"}},\"colorscale\":{\"sequential\":[[0.0,\"#0d0887\"],[0.1111111111111111,\"#46039f\"],[0.2222222222222222,\"#7201a8\"],[0.3333333333333333,\"#9c179e\"],[0.4444444444444444,\"#bd3786\"],[0.5555555555555556,\"#d8576b\"],[0.6666666666666666,\"#ed7953\"],[0.7777777777777778,\"#fb9f3a\"],[0.8888888888888888,\"#fdca26\"],[1.0,\"#f0f921\"]],\"sequentialminus\":[[0.0,\"#0d0887\"],[0.1111111111111111,\"#46039f\"],[0.2222222222222222,\"#7201a8\"],[0.3333333333333333,\"#9c179e\"],[0.4444444444444444,\"#bd3786\"],[0.5555555555555556,\"#d8576b\"],[0.6666666666666666,\"#ed7953\"],[0.7777777777777778,\"#fb9f3a\"],[0.8888888888888888,\"#fdca26\"],[1.0,\"#f0f921\"]],\"diverging\":[[0,\"#8e0152\"],[0.1,\"#c51b7d\"],[0.2,\"#de77ae\"],[0.3,\"#f1b6da\"],[0.4,\"#fde0ef\"],[0.5,\"#f7f7f7\"],[0.6,\"#e6f5d0\"],[0.7,\"#b8e186\"],[0.8,\"#7fbc41\"],[0.9,\"#4d9221\"],[1,\"#276419\"]]},\"xaxis\":{\"gridcolor\":\"white\",\"linecolor\":\"white\",\"ticks\":\"\",\"title\":{\"standoff\":15},\"zerolinecolor\":\"white\",\"automargin\":true,\"zerolinewidth\":2},\"yaxis\":{\"gridcolor\":\"white\",\"linecolor\":\"white\",\"ticks\":\"\",\"title\":{\"standoff\":15},\"zerolinecolor\":\"white\",\"automargin\":true,\"zerolinewidth\":2},\"scene\":{\"xaxis\":{\"backgroundcolor\":\"#E5ECF6\",\"gridcolor\":\"white\",\"linecolor\":\"white\",\"showbackground\":true,\"ticks\":\"\",\"zerolinecolor\":\"white\",\"gridwidth\":2},\"yaxis\":{\"backgroundcolor\":\"#E5ECF6\",\"gridcolor\":\"white\",\"linecolor\":\"white\",\"showbackground\":true,\"ticks\":\"\",\"zerolinecolor\":\"white\",\"gridwidth\":2},\"zaxis\":{\"backgroundcolor\":\"#E5ECF6\",\"gridcolor\":\"white\",\"linecolor\":\"white\",\"showbackground\":true,\"ticks\":\"\",\"zerolinecolor\":\"white\",\"gridwidth\":2}},\"shapedefaults\":{\"line\":{\"color\":\"#2a3f5f\"}},\"annotationdefaults\":{\"arrowcolor\":\"#2a3f5f\",\"arrowhead\":0,\"arrowwidth\":1},\"geo\":{\"bgcolor\":\"white\",\"landcolor\":\"#E5ECF6\",\"subunitcolor\":\"white\",\"showland\":true,\"showlakes\":true,\"lakecolor\":\"white\"},\"title\":{\"x\":0.05},\"mapbox\":{\"style\":\"light\"}}},\"title\":{\"font\":{\"size\":32,\"family\":\"Arial\"},\"x\":0.5},\"legend\":{\"title\":{\"font\":{\"size\":24,\"family\":\"Arial\"}},\"font\":{\"size\":20,\"family\":\"Arial\"}},\"xaxis\":{\"title\":{\"text\":\"Termos [k]\",\"font\":{\"size\":24,\"family\":\"Arial\"}},\"tickfont\":{\"size\":20},\"showgrid\":true,\"ticks\":\"inside\",\"nticks\":20},\"yaxis\":{\"title\":{\"text\":\"Raz\\u00e3o [%]\",\"font\":{\"size\":24,\"family\":\"Arial\"}},\"tickfont\":{\"size\":20},\"showgrid\":true,\"ticks\":\"inside\"},\"width\":800,\"height\":600,\"annotations\":[{\"arrowhead\":1,\"font\":{\"family\":\"Arial\",\"size\":24},\"showarrow\":true,\"text\":\"k*: 10\",\"x\":10,\"y\":97.6299776466328}],\"showlegend\":true},                        {\"responsive\": true}                    ).then(function(){\n",
              "                            \n",
              "var gd = document.getElementById('3cc6c6ba-5fd9-42ec-b2a7-d7dfcf72f704');\n",
              "var x = new MutationObserver(function (mutations, observer) {{\n",
              "        var display = window.getComputedStyle(gd).display;\n",
              "        if (!display || display === 'none') {{\n",
              "            console.log([gd, 'removed!']);\n",
              "            Plotly.purge(gd);\n",
              "            observer.disconnect();\n",
              "        }}\n",
              "}});\n",
              "\n",
              "// Listen for the removal of the full notebook cells\n",
              "var notebookContainer = gd.closest('#notebook-container');\n",
              "if (notebookContainer) {{\n",
              "    x.observe(notebookContainer, {childList: true});\n",
              "}}\n",
              "\n",
              "// Listen for the clearing of the current output cell\n",
              "var outputEl = gd.closest('.output');\n",
              "if (outputEl) {{\n",
              "    x.observe(outputEl, {childList: true});\n",
              "}}\n",
              "\n",
              "                        })                };                            </script>        </div>\n",
              "</body>\n",
              "</html>"
            ]
          },
          "metadata": {}
        }
      ]
    },
    {
      "cell_type": "markdown",
      "source": [
        "## How much is fastest?"
      ],
      "metadata": {
        "id": "Jet1vUrUZ1B9"
      }
    },
    {
      "cell_type": "code",
      "source": [
        "def fastest(df):\n",
        "    line = 1\n",
        "\n",
        "    for value in df['Series-Spectral']:\n",
        "        if(value >= 95):\n",
        "            break\n",
        "\n",
        "        line = line + 1\n",
        "\n",
        "    # Series by Spectral\n",
        "    ratio_1 = df['Spectral'][line]/ df['Series'][line]\n",
        "\n",
        "    # Series by Exponential\n",
        "    ratio_2 = df['Exponential'][line]/ df['Series'][line]\n",
        "\n",
        "    print(f'Séries é {ratio_1:.2f} vezes mais rápido que o Espectral.')\n",
        "    print(f'Séries é {ratio_2:.2f} vezes mais rápido que o Exponencial')"
      ],
      "metadata": {
        "id": "3ND2BdFDZ1Xu"
      },
      "execution_count": 234,
      "outputs": []
    },
    {
      "cell_type": "code",
      "source": [
        "fastest(df_special_case)"
      ],
      "metadata": {
        "id": "1wakdRWoa_92",
        "colab": {
          "base_uri": "https://localhost:8080/"
        },
        "outputId": "e751aef5-50c4-4d23-b880-309338984fe0"
      },
      "execution_count": 235,
      "outputs": [
        {
          "output_type": "stream",
          "name": "stdout",
          "text": [
            "Séries é 178.00 vezes mais rápido que o Espectral.\n",
            "Séries é 1.93 vezes mais rápido que o Exponencial\n"
          ]
        }
      ]
    }
  ]
}